{
 "cells": [
  {
   "cell_type": "markdown",
   "id": "6347f1d2-5cb0-4032-b637-4730e9b9383a",
   "metadata": {},
   "source": [
    "# Computational Linear Algebra: PCA Homework"
   ]
  },
  {
   "cell_type": "markdown",
   "id": "a905c56f-029b-4d04-9e68-739362350bd8",
   "metadata": {},
   "source": [
    "## Initialization:\n",
    "Fill the missing values in this text box and in the following code-cell.\n",
    "\n",
    "**Academic Year:** 2024/2025\n",
    "\n",
    "### Team Members (Alphabetical Order):\n",
    "1. Lauro, Fabio (s318121);\n",
    "2. Surname2, Name2 (StudentID2)."
   ]
  },
  {
   "cell_type": "code",
   "execution_count": 3,
   "id": "2c068e99-0c8c-433f-be0b-f41534dc8a3c",
   "metadata": {
    "ExecuteTime": {
     "start_time": "2024-12-18T17:03:54.729571Z",
     "end_time": "2024-12-18T17:03:54.738818Z"
    }
   },
   "outputs": [],
   "source": [
    "StudentID1 = 318121\n",
    "StudentID2 = 317331"
   ]
  },
  {
   "cell_type": "markdown",
   "id": "7a24f22b-a92f-4898-b26d-e4ab6d49c3d9",
   "metadata": {},
   "source": [
    "## Starting Code-Cell \n",
    "### Attention: DO NOT CHANGE THE CODE INSIDE THE FOLLOWING CELL!"
   ]
  },
  {
   "cell_type": "code",
   "execution_count": 4,
   "id": "84734de0-62ad-4c39-b4b4-886696d3a3f9",
   "metadata": {
    "ExecuteTime": {
     "start_time": "2024-12-18T17:03:58.389692Z",
     "end_time": "2024-12-18T17:03:58.399313Z"
    }
   },
   "outputs": [
    {
     "name": "stdout",
     "output_type": "stream",
     "text": [
      "*** THESE ARE THE SELECTED TYPE OF VARIABLES:\n",
      "Personality\n",
      "Health\n",
      "Phobias\n",
      "Music\n",
      "Interests\n",
      "*************************************\n",
      "*** THESE ARE THE SELECTED FEATURES:\n",
      "Charity\n",
      "Giving\n",
      "Assertiveness\n",
      "Dreams\n",
      "Getting up\n",
      "Workaholism\n",
      "Happiness in life\n",
      "Loneliness\n",
      "Finding lost valuables\n",
      "Friends versus money\n",
      "Questionnaires or polls\n",
      "Socializing\n",
      "Mood swings\n",
      "Punctuality\n",
      "Public speaking\n",
      "Compassion to animals\n",
      "Eating to survive\n",
      "Criminal damage\n",
      "Borrowed stuff\n",
      "Elections\n",
      "Children\n",
      "Final judgement\n",
      "Loss of interest\n",
      "Cheating in school\n",
      "Health\n",
      "Number of friends\n",
      "Responding to a serious letter\n",
      "Unpopularity\n",
      "Getting angry\n",
      "Small - big dogs\n",
      "New environment\n",
      "Internet usage\n",
      "Reliability\n",
      "Self-criticism\n",
      "Keeping promises\n",
      "Hypochondria\n",
      "Knowing the right people\n",
      "Achievements\n",
      "Smoking\n",
      "Alcohol\n",
      "Healthy eating\n",
      "Flying\n",
      "Storm\n",
      "Darkness\n",
      "Heights\n",
      "Spiders\n",
      "Snakes\n",
      "Rats\n",
      "Ageing\n",
      "Dangerous dogs\n",
      "Fear of public speaking\n",
      "Music\n",
      "Slow songs or fast songs\n",
      "Dance\n",
      "Folk\n",
      "Country\n",
      "Classical music\n",
      "Musical\n",
      "Pop\n",
      "Rock\n",
      "Metal or Hardrock\n",
      "Punk\n",
      "Hiphop, Rap\n",
      "Reggae, Ska\n",
      "Swing, Jazz\n",
      "Rock n roll\n",
      "Alternative\n",
      "Latino\n",
      "Techno, Trance\n",
      "Opera\n",
      "History\n",
      "Psychology\n",
      "Politics\n",
      "Mathematics\n",
      "Physics\n",
      "Internet\n",
      "PC\n",
      "Economy Management\n",
      "Biology\n",
      "Chemistry\n",
      "Reading\n",
      "Geography\n",
      "Foreign languages\n",
      "Medicine\n",
      "Law\n",
      "Cars\n",
      "Art exhibitions\n",
      "Religion\n",
      "Countryside, outdoors\n",
      "Dancing\n",
      "Musical instruments\n",
      "Writing\n",
      "Passive sport\n",
      "Active sport\n",
      "Gardening\n",
      "Celebrities\n",
      "Shopping\n",
      "Science and technology\n",
      "Theatre\n",
      "Fun with friends\n",
      "Adrenaline sports\n",
      "Pets\n",
      "*************************************\n"
     ]
    }
   ],
   "source": [
    "####################################################################\n",
    "############## DO NOT CHANGE THE CODE IN THIS CELL #################\n",
    "####################################################################\n",
    "\n",
    "import numpy as np\n",
    "\n",
    "var_entertainment_feat_types = ['Interests', 'Movies', 'Music']\n",
    "var_personal_feat_types = ['Finance', 'Phobias']\n",
    "fixed_feat_types = ['Personality', 'Health']\n",
    "\n",
    "label_types = ['Demographic']\n",
    "\n",
    "variables_by_type = {\n",
    "    'Demographics': ['Age', 'Height', 'Weight', 'Number of siblings', \n",
    "                     'Gender', 'Hand', 'Education', 'Only child', 'Home Town Type',\n",
    "                     'Home Type'],\n",
    "    'Finance': ['Finances', 'Shopping centres', 'Branded clothing', \n",
    "                'Entertainment spending', 'Spending on looks', \n",
    "                'Spending on gadgets', 'Spending on healthy eating'],\n",
    "    'Health': ['Smoking', 'Alcohol', 'Healthy eating'],\n",
    "    'Interests': ['History', 'Psychology', 'Politics', 'Mathematics', \n",
    "                  'Physics', 'Internet', 'PC', 'Economy Management', \n",
    "                  'Biology', 'Chemistry', 'Reading', 'Geography', \n",
    "                  'Foreign languages', 'Medicine', 'Law', 'Cars', \n",
    "                  'Art exhibitions', 'Religion', 'Countryside, outdoors', \n",
    "                  'Dancing', 'Musical instruments', 'Writing', 'Passive sport', \n",
    "                  'Active sport', 'Gardening', 'Celebrities', 'Shopping', \n",
    "                  'Science and technology', 'Theatre', 'Fun with friends', \n",
    "                  'Adrenaline sports', 'Pets'],\n",
    "    'Movies': ['Movies', 'Horror', 'Thriller', 'Comedy', 'Romantic', \n",
    "               'Sci-fi', 'War', 'Fantasy/Fairy tales', 'Animated', \n",
    "               'Documentary', 'Western', 'Action'],\n",
    "    'Music': ['Music', 'Slow songs or fast songs', 'Dance', 'Folk', \n",
    "              'Country', 'Classical music', 'Musical', 'Pop', 'Rock', \n",
    "              'Metal or Hardrock', 'Punk', 'Hiphop, Rap', 'Reggae, Ska', \n",
    "              'Swing, Jazz', 'Rock n roll', 'Alternative', 'Latino', \n",
    "              'Techno, Trance', 'Opera'],\n",
    "    'Personality': ['Daily events', 'Prioritising workload', \n",
    "                    'Writing notes', 'Workaholism', 'Thinking ahead', \n",
    "                    'Final judgement', 'Reliability', 'Keeping promises', \n",
    "                    'Loss of interest', 'Friends versus money', 'Funniness', \n",
    "                    'Fake', 'Criminal damage', 'Decision making', 'Elections', \n",
    "                    'Self-criticism', 'Judgment calls', 'Hypochondria', \n",
    "                    'Empathy', 'Eating to survive', 'Giving', \n",
    "                    'Compassion to animals', 'Borrowed stuff', \n",
    "                    'Loneliness', 'Cheating in school', 'Health', \n",
    "                    'Changing the past', 'God', 'Dreams', 'Charity', \n",
    "                    'Number of friends', 'Punctuality', 'Lying', 'Waiting', \n",
    "                    'New environment', 'Mood swings', 'Appearence and gestures', \n",
    "                    'Socializing', 'Achievements', 'Responding to a serious letter', \n",
    "                    'Children', 'Assertiveness', 'Getting angry', \n",
    "                    'Knowing the right people', 'Public speaking', \n",
    "                    'Unpopularity', 'Life struggles', 'Happiness in life', \n",
    "                    'Energy levels', 'Small - big dogs', 'Personality', \n",
    "                    'Finding lost valuables', 'Getting up', 'Interests or hobbies', \n",
    "                    \"Parents' advice\", 'Questionnaires or polls', 'Internet usage'],\n",
    "    'Phobias': ['Flying', 'Storm', 'Darkness', 'Heights', 'Spiders', 'Snakes', \n",
    "                'Rats', 'Ageing', 'Dangerous dogs', 'Fear of public speaking']\n",
    "}\n",
    "\n",
    "labels = variables_by_type['Demographics']\n",
    "\n",
    "try:\n",
    "    random_seed = min([StudentID1, StudentID2])\n",
    "except NameError:\n",
    "    random_seed = StudentID1\n",
    "\n",
    "def which_featgroups():\n",
    "    np.random.seed(random_seed)\n",
    "    these_entertainments = np.random.choice(var_entertainment_feat_types, 2, replace=False).tolist()\n",
    "    these_personal = np.random.choice(var_personal_feat_types, 1, replace=False).tolist()\n",
    "    these_types = fixed_feat_types + these_personal + these_entertainments\n",
    "    print('*** THESE ARE THE SELECTED TYPE OF VARIABLES:')\n",
    "    for k in these_types:\n",
    "        print(f'{k}')\n",
    "    print('*************************************')\n",
    "    return these_types\n",
    "\n",
    "def which_features(these_types):\n",
    "    np.random.seed(random_seed)\n",
    "    these_features = []\n",
    "    for type in these_types:\n",
    "        if type != 'Personality':\n",
    "            these_features += variables_by_type[type]\n",
    "        else:\n",
    "            these_features += np.random.choice(variables_by_type[type], \n",
    "                                               int(2 * (len(variables_by_type[type]) / 3)), \n",
    "                                               replace=False).tolist()\n",
    "    print('*** THESE ARE THE SELECTED FEATURES:')\n",
    "    for ft in these_features:\n",
    "        print(f'{ft}')\n",
    "    print('*************************************')\n",
    "    return these_features\n",
    "\n",
    "these_types = which_featgroups()\n",
    "these_features = which_features(these_types)\n",
    "\n",
    "np.random.seed(random_seed)"
   ]
  },
  {
   "cell_type": "markdown",
   "id": "090c9090-6065-4f25-bdc3-1b3cdad6c083",
   "metadata": {},
   "source": [
    "## Importing Modules\n",
    "\n",
    "In the following cell, import all the modules you think are necessary for doing the homework, **among the ones listed and used during the laboratories of the course**.\n",
    "No extra modules are allowed for reproducibility."
   ]
  },
  {
   "cell_type": "code",
   "execution_count": 1,
   "id": "30ad703d-e6d8-4239-8222-7aa91fbda3e8",
   "metadata": {
    "ExecuteTime": {
     "start_time": "2024-12-18T17:03:33.639329Z",
     "end_time": "2024-12-18T17:03:42.877506Z"
    }
   },
   "outputs": [],
   "source": [
    "# DO NOT IMPORT NUMPY\n",
    "import pandas as pd\n",
    "from sklearn.preprocessing import StandardScaler, MinMaxScaler\n",
    "from sklearn.decomposition import PCA\n",
    "from sklearn.cluster import KMeans\n",
    "from sklearn.metrics import silhouette_score, silhouette_samples\n",
    "import matplotlib.pyplot as plt\n",
    "from mpl_toolkits.mplot3d import Axes3D\n",
    "from matplotlib import cm\n",
    "from matplotlib.lines import Line2D\n",
    "import yaml\n",
    "from IPython.display import display  # to display variables in a \"nice\" way\n",
    "\n",
    "try:\n",
    "    from yaml import CLoader as Loader, CDumper as Dumper\n",
    "except ImportError:\n",
    "    from yaml import Loader, Dumper"
   ]
  },
  {
   "cell_type": "markdown",
   "id": "ec1143d0-e6a8-43dd-8bf8-0363842bac60",
   "metadata": {},
   "source": [
    "## Exercise 1. Preparing the Dataset\n",
    "\n",
    "In the cells below, do the following operations:\n",
    "1. load the dataset \"_responses_hw.csv_\";\n",
    "2. create a working dataframe extracting from _responses_hw.csv_ the columns corresponding to the variables in _these_features_, and randomly selecting 2/3 of the rows. Let us call this dataframe _X_df_;\n",
    "3. analyze the obtained dataframe and performing cleansing/encoding operations."
   ]
  },
  {
   "cell_type": "code",
   "execution_count": 5,
   "id": "b1b2d477-033c-40fd-b31e-f7c03ddb2954",
   "metadata": {
    "ExecuteTime": {
     "start_time": "2024-12-18T17:04:10.180496Z",
     "end_time": "2024-12-18T17:04:10.752300Z"
    }
   },
   "outputs": [
    {
     "data": {
      "text/plain": "      Charity  Giving  Assertiveness  Dreams  Getting up  Workaholism  \\\n0         2.0     4.0            1.0       4         2.0          4.0   \n1         1.0     2.0            2.0       3         5.0          5.0   \n2         3.0     5.0            3.0       1         4.0          3.0   \n3         3.0     1.0            5.0       3         1.0          5.0   \n4         3.0     3.0            4.0       3         4.0          3.0   \n...       ...     ...            ...     ...         ...          ...   \n1005      2.0     3.0            2.0       3         5.0          4.0   \n1006      3.0     4.0            4.0       3         1.0          5.0   \n1007      1.0     1.0            1.0       3         5.0          1.0   \n1008      3.0     3.0            5.0       3         5.0          1.0   \n1009      1.0     1.0            2.0       3         2.0          5.0   \n\n      Happiness in life  Loneliness  Finding lost valuables  \\\n0                   4.0         3.0                     3.0   \n1                   4.0         2.0                     4.0   \n2                   4.0         5.0                     3.0   \n3                   2.0         5.0                     1.0   \n4                   3.0         3.0                     2.0   \n...                 ...         ...                     ...   \n1005                4.0         4.0                     4.0   \n1006                4.0         1.0                     3.0   \n1007                3.0         4.0                     3.0   \n1008                3.0         3.0                     1.0   \n1009                4.0         3.0                     1.0   \n\n      Friends versus money  ...  Passive sport  Active sport  Gardening  \\\n0                      3.0  ...            1.0           5.0        5.0   \n1                      4.0  ...            1.0           1.0        1.0   \n2                      5.0  ...            5.0           2.0        1.0   \n3                      2.0  ...            1.0           1.0        1.0   \n4                      3.0  ...            3.0           1.0        4.0   \n...                    ...  ...            ...           ...        ...   \n1005                   4.0  ...            4.0           4.0        2.0   \n1006                   2.0  ...            1.0           5.0        5.0   \n1007                   4.0  ...            2.0           2.0        1.0   \n1008                   3.0  ...            2.0           4.0        1.0   \n1009                   4.0  ...            5.0           4.0        5.0   \n\n     Celebrities  Shopping  Science and technology  Theatre  Fun with friends  \\\n0            1.0       4.0                     4.0      2.0               5.0   \n1            2.0       3.0                     3.0      2.0               4.0   \n2            1.0       4.0                     2.0      5.0               5.0   \n3            2.0       4.0                     3.0      1.0               2.0   \n4            3.0       3.0                     3.0      2.0               4.0   \n...          ...       ...                     ...      ...               ...   \n1005         4.0       5.0                     3.0      5.0               5.0   \n1006         1.0       2.0                     5.0      1.0               5.0   \n1007         1.0       2.0                     3.0      2.0               3.0   \n1008         3.0       5.0                     5.0      5.0               5.0   \n1009         3.0       3.0                     3.0      1.0               5.0   \n\n      Adrenaline sports  Pets  \n0                   4.0   4.0  \n1                   2.0   5.0  \n2                   5.0   5.0  \n3                   1.0   1.0  \n4                   2.0   1.0  \n...                 ...   ...  \n1005                4.0   4.0  \n1006                1.0   5.0  \n1007                1.0   5.0  \n1008                1.0   4.0  \n1009                2.0   5.0  \n\n[673 rows x 102 columns]",
      "text/html": "<div>\n<style scoped>\n    .dataframe tbody tr th:only-of-type {\n        vertical-align: middle;\n    }\n\n    .dataframe tbody tr th {\n        vertical-align: top;\n    }\n\n    .dataframe thead th {\n        text-align: right;\n    }\n</style>\n<table border=\"1\" class=\"dataframe\">\n  <thead>\n    <tr style=\"text-align: right;\">\n      <th></th>\n      <th>Charity</th>\n      <th>Giving</th>\n      <th>Assertiveness</th>\n      <th>Dreams</th>\n      <th>Getting up</th>\n      <th>Workaholism</th>\n      <th>Happiness in life</th>\n      <th>Loneliness</th>\n      <th>Finding lost valuables</th>\n      <th>Friends versus money</th>\n      <th>...</th>\n      <th>Passive sport</th>\n      <th>Active sport</th>\n      <th>Gardening</th>\n      <th>Celebrities</th>\n      <th>Shopping</th>\n      <th>Science and technology</th>\n      <th>Theatre</th>\n      <th>Fun with friends</th>\n      <th>Adrenaline sports</th>\n      <th>Pets</th>\n    </tr>\n  </thead>\n  <tbody>\n    <tr>\n      <th>0</th>\n      <td>2.0</td>\n      <td>4.0</td>\n      <td>1.0</td>\n      <td>4</td>\n      <td>2.0</td>\n      <td>4.0</td>\n      <td>4.0</td>\n      <td>3.0</td>\n      <td>3.0</td>\n      <td>3.0</td>\n      <td>...</td>\n      <td>1.0</td>\n      <td>5.0</td>\n      <td>5.0</td>\n      <td>1.0</td>\n      <td>4.0</td>\n      <td>4.0</td>\n      <td>2.0</td>\n      <td>5.0</td>\n      <td>4.0</td>\n      <td>4.0</td>\n    </tr>\n    <tr>\n      <th>1</th>\n      <td>1.0</td>\n      <td>2.0</td>\n      <td>2.0</td>\n      <td>3</td>\n      <td>5.0</td>\n      <td>5.0</td>\n      <td>4.0</td>\n      <td>2.0</td>\n      <td>4.0</td>\n      <td>4.0</td>\n      <td>...</td>\n      <td>1.0</td>\n      <td>1.0</td>\n      <td>1.0</td>\n      <td>2.0</td>\n      <td>3.0</td>\n      <td>3.0</td>\n      <td>2.0</td>\n      <td>4.0</td>\n      <td>2.0</td>\n      <td>5.0</td>\n    </tr>\n    <tr>\n      <th>2</th>\n      <td>3.0</td>\n      <td>5.0</td>\n      <td>3.0</td>\n      <td>1</td>\n      <td>4.0</td>\n      <td>3.0</td>\n      <td>4.0</td>\n      <td>5.0</td>\n      <td>3.0</td>\n      <td>5.0</td>\n      <td>...</td>\n      <td>5.0</td>\n      <td>2.0</td>\n      <td>1.0</td>\n      <td>1.0</td>\n      <td>4.0</td>\n      <td>2.0</td>\n      <td>5.0</td>\n      <td>5.0</td>\n      <td>5.0</td>\n      <td>5.0</td>\n    </tr>\n    <tr>\n      <th>3</th>\n      <td>3.0</td>\n      <td>1.0</td>\n      <td>5.0</td>\n      <td>3</td>\n      <td>1.0</td>\n      <td>5.0</td>\n      <td>2.0</td>\n      <td>5.0</td>\n      <td>1.0</td>\n      <td>2.0</td>\n      <td>...</td>\n      <td>1.0</td>\n      <td>1.0</td>\n      <td>1.0</td>\n      <td>2.0</td>\n      <td>4.0</td>\n      <td>3.0</td>\n      <td>1.0</td>\n      <td>2.0</td>\n      <td>1.0</td>\n      <td>1.0</td>\n    </tr>\n    <tr>\n      <th>4</th>\n      <td>3.0</td>\n      <td>3.0</td>\n      <td>4.0</td>\n      <td>3</td>\n      <td>4.0</td>\n      <td>3.0</td>\n      <td>3.0</td>\n      <td>3.0</td>\n      <td>2.0</td>\n      <td>3.0</td>\n      <td>...</td>\n      <td>3.0</td>\n      <td>1.0</td>\n      <td>4.0</td>\n      <td>3.0</td>\n      <td>3.0</td>\n      <td>3.0</td>\n      <td>2.0</td>\n      <td>4.0</td>\n      <td>2.0</td>\n      <td>1.0</td>\n    </tr>\n    <tr>\n      <th>...</th>\n      <td>...</td>\n      <td>...</td>\n      <td>...</td>\n      <td>...</td>\n      <td>...</td>\n      <td>...</td>\n      <td>...</td>\n      <td>...</td>\n      <td>...</td>\n      <td>...</td>\n      <td>...</td>\n      <td>...</td>\n      <td>...</td>\n      <td>...</td>\n      <td>...</td>\n      <td>...</td>\n      <td>...</td>\n      <td>...</td>\n      <td>...</td>\n      <td>...</td>\n      <td>...</td>\n    </tr>\n    <tr>\n      <th>1005</th>\n      <td>2.0</td>\n      <td>3.0</td>\n      <td>2.0</td>\n      <td>3</td>\n      <td>5.0</td>\n      <td>4.0</td>\n      <td>4.0</td>\n      <td>4.0</td>\n      <td>4.0</td>\n      <td>4.0</td>\n      <td>...</td>\n      <td>4.0</td>\n      <td>4.0</td>\n      <td>2.0</td>\n      <td>4.0</td>\n      <td>5.0</td>\n      <td>3.0</td>\n      <td>5.0</td>\n      <td>5.0</td>\n      <td>4.0</td>\n      <td>4.0</td>\n    </tr>\n    <tr>\n      <th>1006</th>\n      <td>3.0</td>\n      <td>4.0</td>\n      <td>4.0</td>\n      <td>3</td>\n      <td>1.0</td>\n      <td>5.0</td>\n      <td>4.0</td>\n      <td>1.0</td>\n      <td>3.0</td>\n      <td>2.0</td>\n      <td>...</td>\n      <td>1.0</td>\n      <td>5.0</td>\n      <td>5.0</td>\n      <td>1.0</td>\n      <td>2.0</td>\n      <td>5.0</td>\n      <td>1.0</td>\n      <td>5.0</td>\n      <td>1.0</td>\n      <td>5.0</td>\n    </tr>\n    <tr>\n      <th>1007</th>\n      <td>1.0</td>\n      <td>1.0</td>\n      <td>1.0</td>\n      <td>3</td>\n      <td>5.0</td>\n      <td>1.0</td>\n      <td>3.0</td>\n      <td>4.0</td>\n      <td>3.0</td>\n      <td>4.0</td>\n      <td>...</td>\n      <td>2.0</td>\n      <td>2.0</td>\n      <td>1.0</td>\n      <td>1.0</td>\n      <td>2.0</td>\n      <td>3.0</td>\n      <td>2.0</td>\n      <td>3.0</td>\n      <td>1.0</td>\n      <td>5.0</td>\n    </tr>\n    <tr>\n      <th>1008</th>\n      <td>3.0</td>\n      <td>3.0</td>\n      <td>5.0</td>\n      <td>3</td>\n      <td>5.0</td>\n      <td>1.0</td>\n      <td>3.0</td>\n      <td>3.0</td>\n      <td>1.0</td>\n      <td>3.0</td>\n      <td>...</td>\n      <td>2.0</td>\n      <td>4.0</td>\n      <td>1.0</td>\n      <td>3.0</td>\n      <td>5.0</td>\n      <td>5.0</td>\n      <td>5.0</td>\n      <td>5.0</td>\n      <td>1.0</td>\n      <td>4.0</td>\n    </tr>\n    <tr>\n      <th>1009</th>\n      <td>1.0</td>\n      <td>1.0</td>\n      <td>2.0</td>\n      <td>3</td>\n      <td>2.0</td>\n      <td>5.0</td>\n      <td>4.0</td>\n      <td>3.0</td>\n      <td>1.0</td>\n      <td>4.0</td>\n      <td>...</td>\n      <td>5.0</td>\n      <td>4.0</td>\n      <td>5.0</td>\n      <td>3.0</td>\n      <td>3.0</td>\n      <td>3.0</td>\n      <td>1.0</td>\n      <td>5.0</td>\n      <td>2.0</td>\n      <td>5.0</td>\n    </tr>\n  </tbody>\n</table>\n<p>673 rows × 102 columns</p>\n</div>"
     },
     "metadata": {},
     "output_type": "display_data"
    }
   ],
   "source": [
    "#just loading the dataset\n",
    "\n",
    "url = \"https://raw.githubusercontent.com/fabiolauro/PCA_CLA_Project/refs/heads/main/responses_hw.csv\"\n",
    "\n",
    "responses_df = pd.read_csv(url)\n",
    "rows = responses_df.shape[0]\n",
    "\n",
    "random_indexes = np.random.choice(rows, size = round(2*rows/3), replace = False)\n",
    "random_indexes = np.sort(random_indexes)\n",
    "responses_df_rows = responses_df.iloc[random_indexes]\n",
    "\n",
    "#now let's take only the columns we are interested in\n",
    "\n",
    "X_df = responses_df_rows[these_features]\n",
    "\n",
    "display(X_df)"
   ]
  },
  {
   "cell_type": "code",
   "execution_count": 6,
   "outputs": [
    {
     "data": {
      "text/plain": "      Charity  Giving  Assertiveness  Dreams  Getting up  Workaholism  \\\n0         2.0     4.0            1.0       4         2.0          4.0   \n1         1.0     2.0            2.0       3         5.0          5.0   \n2         3.0     5.0            3.0       1         4.0          3.0   \n3         3.0     1.0            5.0       3         1.0          5.0   \n4         3.0     3.0            4.0       3         4.0          3.0   \n...       ...     ...            ...     ...         ...          ...   \n1004      2.0     3.0            3.0       4         5.0          1.0   \n1005      2.0     3.0            2.0       3         5.0          4.0   \n1007      1.0     1.0            1.0       3         5.0          1.0   \n1008      3.0     3.0            5.0       3         5.0          1.0   \n1009      1.0     1.0            2.0       3         2.0          5.0   \n\n      Happiness in life  Loneliness  Finding lost valuables  \\\n0                   4.0         3.0                     3.0   \n1                   4.0         2.0                     4.0   \n2                   4.0         5.0                     3.0   \n3                   2.0         5.0                     1.0   \n4                   3.0         3.0                     2.0   \n...                 ...         ...                     ...   \n1004                3.0         3.0                     2.0   \n1005                4.0         4.0                     4.0   \n1007                3.0         4.0                     3.0   \n1008                3.0         3.0                     1.0   \n1009                4.0         3.0                     1.0   \n\n      Friends versus money  ...  Passive sport  Active sport  Gardening  \\\n0                      3.0  ...            1.0           5.0        5.0   \n1                      4.0  ...            1.0           1.0        1.0   \n2                      5.0  ...            5.0           2.0        1.0   \n3                      2.0  ...            1.0           1.0        1.0   \n4                      3.0  ...            3.0           1.0        4.0   \n...                    ...  ...            ...           ...        ...   \n1004                   5.0  ...            5.0           2.0        2.0   \n1005                   4.0  ...            4.0           4.0        2.0   \n1007                   4.0  ...            2.0           2.0        1.0   \n1008                   3.0  ...            2.0           4.0        1.0   \n1009                   4.0  ...            5.0           4.0        5.0   \n\n     Celebrities  Shopping  Science and technology  Theatre  Fun with friends  \\\n0            1.0       4.0                     4.0      2.0               5.0   \n1            2.0       3.0                     3.0      2.0               4.0   \n2            1.0       4.0                     2.0      5.0               5.0   \n3            2.0       4.0                     3.0      1.0               2.0   \n4            3.0       3.0                     3.0      2.0               4.0   \n...          ...       ...                     ...      ...               ...   \n1004         1.0       2.0                     2.0      2.0               5.0   \n1005         4.0       5.0                     3.0      5.0               5.0   \n1007         1.0       2.0                     3.0      2.0               3.0   \n1008         3.0       5.0                     5.0      5.0               5.0   \n1009         3.0       3.0                     3.0      1.0               5.0   \n\n      Adrenaline sports  Pets  \n0                   4.0   4.0  \n1                   2.0   5.0  \n2                   5.0   5.0  \n3                   1.0   1.0  \n4                   2.0   1.0  \n...                 ...   ...  \n1004                4.0   4.0  \n1005                4.0   4.0  \n1007                1.0   5.0  \n1008                1.0   4.0  \n1009                2.0   5.0  \n\n[495 rows x 102 columns]",
      "text/html": "<div>\n<style scoped>\n    .dataframe tbody tr th:only-of-type {\n        vertical-align: middle;\n    }\n\n    .dataframe tbody tr th {\n        vertical-align: top;\n    }\n\n    .dataframe thead th {\n        text-align: right;\n    }\n</style>\n<table border=\"1\" class=\"dataframe\">\n  <thead>\n    <tr style=\"text-align: right;\">\n      <th></th>\n      <th>Charity</th>\n      <th>Giving</th>\n      <th>Assertiveness</th>\n      <th>Dreams</th>\n      <th>Getting up</th>\n      <th>Workaholism</th>\n      <th>Happiness in life</th>\n      <th>Loneliness</th>\n      <th>Finding lost valuables</th>\n      <th>Friends versus money</th>\n      <th>...</th>\n      <th>Passive sport</th>\n      <th>Active sport</th>\n      <th>Gardening</th>\n      <th>Celebrities</th>\n      <th>Shopping</th>\n      <th>Science and technology</th>\n      <th>Theatre</th>\n      <th>Fun with friends</th>\n      <th>Adrenaline sports</th>\n      <th>Pets</th>\n    </tr>\n  </thead>\n  <tbody>\n    <tr>\n      <th>0</th>\n      <td>2.0</td>\n      <td>4.0</td>\n      <td>1.0</td>\n      <td>4</td>\n      <td>2.0</td>\n      <td>4.0</td>\n      <td>4.0</td>\n      <td>3.0</td>\n      <td>3.0</td>\n      <td>3.0</td>\n      <td>...</td>\n      <td>1.0</td>\n      <td>5.0</td>\n      <td>5.0</td>\n      <td>1.0</td>\n      <td>4.0</td>\n      <td>4.0</td>\n      <td>2.0</td>\n      <td>5.0</td>\n      <td>4.0</td>\n      <td>4.0</td>\n    </tr>\n    <tr>\n      <th>1</th>\n      <td>1.0</td>\n      <td>2.0</td>\n      <td>2.0</td>\n      <td>3</td>\n      <td>5.0</td>\n      <td>5.0</td>\n      <td>4.0</td>\n      <td>2.0</td>\n      <td>4.0</td>\n      <td>4.0</td>\n      <td>...</td>\n      <td>1.0</td>\n      <td>1.0</td>\n      <td>1.0</td>\n      <td>2.0</td>\n      <td>3.0</td>\n      <td>3.0</td>\n      <td>2.0</td>\n      <td>4.0</td>\n      <td>2.0</td>\n      <td>5.0</td>\n    </tr>\n    <tr>\n      <th>2</th>\n      <td>3.0</td>\n      <td>5.0</td>\n      <td>3.0</td>\n      <td>1</td>\n      <td>4.0</td>\n      <td>3.0</td>\n      <td>4.0</td>\n      <td>5.0</td>\n      <td>3.0</td>\n      <td>5.0</td>\n      <td>...</td>\n      <td>5.0</td>\n      <td>2.0</td>\n      <td>1.0</td>\n      <td>1.0</td>\n      <td>4.0</td>\n      <td>2.0</td>\n      <td>5.0</td>\n      <td>5.0</td>\n      <td>5.0</td>\n      <td>5.0</td>\n    </tr>\n    <tr>\n      <th>3</th>\n      <td>3.0</td>\n      <td>1.0</td>\n      <td>5.0</td>\n      <td>3</td>\n      <td>1.0</td>\n      <td>5.0</td>\n      <td>2.0</td>\n      <td>5.0</td>\n      <td>1.0</td>\n      <td>2.0</td>\n      <td>...</td>\n      <td>1.0</td>\n      <td>1.0</td>\n      <td>1.0</td>\n      <td>2.0</td>\n      <td>4.0</td>\n      <td>3.0</td>\n      <td>1.0</td>\n      <td>2.0</td>\n      <td>1.0</td>\n      <td>1.0</td>\n    </tr>\n    <tr>\n      <th>4</th>\n      <td>3.0</td>\n      <td>3.0</td>\n      <td>4.0</td>\n      <td>3</td>\n      <td>4.0</td>\n      <td>3.0</td>\n      <td>3.0</td>\n      <td>3.0</td>\n      <td>2.0</td>\n      <td>3.0</td>\n      <td>...</td>\n      <td>3.0</td>\n      <td>1.0</td>\n      <td>4.0</td>\n      <td>3.0</td>\n      <td>3.0</td>\n      <td>3.0</td>\n      <td>2.0</td>\n      <td>4.0</td>\n      <td>2.0</td>\n      <td>1.0</td>\n    </tr>\n    <tr>\n      <th>...</th>\n      <td>...</td>\n      <td>...</td>\n      <td>...</td>\n      <td>...</td>\n      <td>...</td>\n      <td>...</td>\n      <td>...</td>\n      <td>...</td>\n      <td>...</td>\n      <td>...</td>\n      <td>...</td>\n      <td>...</td>\n      <td>...</td>\n      <td>...</td>\n      <td>...</td>\n      <td>...</td>\n      <td>...</td>\n      <td>...</td>\n      <td>...</td>\n      <td>...</td>\n      <td>...</td>\n    </tr>\n    <tr>\n      <th>1004</th>\n      <td>2.0</td>\n      <td>3.0</td>\n      <td>3.0</td>\n      <td>4</td>\n      <td>5.0</td>\n      <td>1.0</td>\n      <td>3.0</td>\n      <td>3.0</td>\n      <td>2.0</td>\n      <td>5.0</td>\n      <td>...</td>\n      <td>5.0</td>\n      <td>2.0</td>\n      <td>2.0</td>\n      <td>1.0</td>\n      <td>2.0</td>\n      <td>2.0</td>\n      <td>2.0</td>\n      <td>5.0</td>\n      <td>4.0</td>\n      <td>4.0</td>\n    </tr>\n    <tr>\n      <th>1005</th>\n      <td>2.0</td>\n      <td>3.0</td>\n      <td>2.0</td>\n      <td>3</td>\n      <td>5.0</td>\n      <td>4.0</td>\n      <td>4.0</td>\n      <td>4.0</td>\n      <td>4.0</td>\n      <td>4.0</td>\n      <td>...</td>\n      <td>4.0</td>\n      <td>4.0</td>\n      <td>2.0</td>\n      <td>4.0</td>\n      <td>5.0</td>\n      <td>3.0</td>\n      <td>5.0</td>\n      <td>5.0</td>\n      <td>4.0</td>\n      <td>4.0</td>\n    </tr>\n    <tr>\n      <th>1007</th>\n      <td>1.0</td>\n      <td>1.0</td>\n      <td>1.0</td>\n      <td>3</td>\n      <td>5.0</td>\n      <td>1.0</td>\n      <td>3.0</td>\n      <td>4.0</td>\n      <td>3.0</td>\n      <td>4.0</td>\n      <td>...</td>\n      <td>2.0</td>\n      <td>2.0</td>\n      <td>1.0</td>\n      <td>1.0</td>\n      <td>2.0</td>\n      <td>3.0</td>\n      <td>2.0</td>\n      <td>3.0</td>\n      <td>1.0</td>\n      <td>5.0</td>\n    </tr>\n    <tr>\n      <th>1008</th>\n      <td>3.0</td>\n      <td>3.0</td>\n      <td>5.0</td>\n      <td>3</td>\n      <td>5.0</td>\n      <td>1.0</td>\n      <td>3.0</td>\n      <td>3.0</td>\n      <td>1.0</td>\n      <td>3.0</td>\n      <td>...</td>\n      <td>2.0</td>\n      <td>4.0</td>\n      <td>1.0</td>\n      <td>3.0</td>\n      <td>5.0</td>\n      <td>5.0</td>\n      <td>5.0</td>\n      <td>5.0</td>\n      <td>1.0</td>\n      <td>4.0</td>\n    </tr>\n    <tr>\n      <th>1009</th>\n      <td>1.0</td>\n      <td>1.0</td>\n      <td>2.0</td>\n      <td>3</td>\n      <td>2.0</td>\n      <td>5.0</td>\n      <td>4.0</td>\n      <td>3.0</td>\n      <td>1.0</td>\n      <td>4.0</td>\n      <td>...</td>\n      <td>5.0</td>\n      <td>4.0</td>\n      <td>5.0</td>\n      <td>3.0</td>\n      <td>3.0</td>\n      <td>3.0</td>\n      <td>1.0</td>\n      <td>5.0</td>\n      <td>2.0</td>\n      <td>5.0</td>\n    </tr>\n  </tbody>\n</table>\n<p>495 rows × 102 columns</p>\n</div>"
     },
     "metadata": {},
     "output_type": "display_data"
    }
   ],
   "source": [
    "#looking for missing values, cleaning operations\n",
    "\n",
    "missing_values = X_df.isnull().sum()\n",
    "missing_values = missing_values.sort_values(ascending=False)\n",
    "missing_values = missing_values[missing_values > 5]\n",
    "\n",
    "X_df_cleaned = X_df.dropna()\n",
    "\n",
    "\n",
    "\n",
    "#if we drop all the missing values, we lose about 1/3 of the rows\n",
    "display(X_df_cleaned)\n",
    "#print(missing_values)"
   ],
   "metadata": {
    "collapsed": false,
    "ExecuteTime": {
     "start_time": "2024-12-18T17:04:12.780585Z",
     "end_time": "2024-12-18T17:04:12.815186Z"
    }
   }
  },
  {
   "cell_type": "code",
   "execution_count": null,
   "outputs": [],
   "source": [
    "#we have to transform the categorical variables into numerical\n",
    "\n"
   ],
   "metadata": {
    "collapsed": false
   }
  },
  {
   "cell_type": "markdown",
   "id": "d4058cb9-19fc-406c-8380-7e8053b43649",
   "metadata": {},
   "source": [
    "## Exercise 2. Analyzing the Variance and the PCs\n",
    "\n",
    "In the cells below, do the following operations:\n",
    "1. create two new dataframes from _X_df_ applying a StandardScaler and a MinMaxscaler. Call these new dataframes as _Xstd_df_ and _Xmm_df_, respectively;\n",
    "2. compute the variance of all the features in _X_df_, _Xstd_df_, and _Xmm_df_ and **comment the results**;\n",
    "3. compute all the $n$ Principal Components (PCs) for each dataset _X_df_, _Xstd_df_, and _Xmm_df_. Then, visualize the curves of the cumulative explained variances and **comment the results**."
   ]
  },
  {
   "cell_type": "code",
   "execution_count": null,
   "id": "181358a6-6bb0-4f22-b395-34e3757fa16e",
   "metadata": {},
   "outputs": [],
   "source": []
  },
  {
   "cell_type": "markdown",
   "id": "14c1771a-09b2-41bc-bc4c-7e3f6f530021",
   "metadata": {},
   "source": [
    "## Exercise 3. Dimensionality Reduction and PC Interpretation\n",
    "\n",
    "In the cells below, do the following operations:\n",
    "1. For each one of the two dataframes _Xstd_df_, and _Xmm_df_, compute a new PCA for performing a dimensionality reduction with respect to $m$ dimensions. The value of $m$ must be $$m = \\min\\{m', 5\\}\\,,$$ where $m'$ is the value required for obtaining $33\\%$ of the total variance.\n",
    "2. For both the cases, visualize all the PCs and give a name/interpretation to them. **Comment and motivate your interpretations**. If possible, **compare the differences among the results obtained** for _Xstd_df_ and _Xmm_df_.\n",
    "3. Perform the score graph for both the cases (_std_ and _mm_). If $m>3$, plot the score graph with respect to the first 3 PCs. All the **plots must show the names of the PCs on the axes** for better understanding the results.\n",
    "4. **Optional:** plot more score graphs, coloring the dots with respect to any label in the list _labels_ that you believe can be interesting. **Comment and analyze this optional plots**."
   ]
  },
  {
   "cell_type": "code",
   "execution_count": null,
   "id": "4c6c6d02-e58c-4db4-8872-d45c6eb9e4f9",
   "metadata": {},
   "outputs": [],
   "source": []
  },
  {
   "cell_type": "markdown",
   "id": "94c8f0b8-37c5-403a-93ad-8abefd96e3b2",
   "metadata": {},
   "source": [
    "## Exercise 4. $k$-Means\n",
    "\n",
    "In the cells below, do the following operations:\n",
    "1. For each one of the two datasets (_std_ and _mm_), run the $k$-Means for clustering the data. In particular, **use the silohuette score for identify the best value for $k\\in\\{3, \\ldots, 10\\}$**.\n",
    "2. Plot the score graphs of exercise 3.3, adding the centroids of the cluster.\n",
    "3. Observing the centroids coordinates in the PC space, **give a name/interpretation to them**, exploiting the names you assigned to the PCs. **Comment and motivate your interpretations**."
   ]
  },
  {
   "cell_type": "code",
   "execution_count": null,
   "id": "2c2e7be2-1756-4e44-9bcd-56a0fa7c78b9",
   "metadata": {},
   "outputs": [],
   "source": []
  },
  {
   "cell_type": "markdown",
   "id": "c165c3e8-1dbb-46c0-b09e-d7704464c324",
   "metadata": {},
   "source": [
    "## Exercise 5. Cluster Evaluations\n",
    "\n",
    "In the cells below, do the following operations:\n",
    "1. For each one of the two datasets (_std_ and _mm_), perform an **external evaluation** of the clustering obtained at exercise 4.1 with respect to one or more labels in the list _labels_. **Comment the results, comparing the evaluation with the interpretation you gave at exercise 4.3**. \n",
    "2. For each one of the two datasets (_std_ and _mm_), perform an **internal evaluation** of each cluster, with respect to the silohuette score. **Comment the results**. "
   ]
  },
  {
   "cell_type": "code",
   "execution_count": null,
   "id": "4babe2f4-f800-4f51-9c97-6059d4ca12cd",
   "metadata": {},
   "outputs": [],
   "source": []
  }
 ],
 "metadata": {
  "kernelspec": {
   "display_name": "Python 3 (ipykernel)",
   "language": "python",
   "name": "python3"
  },
  "language_info": {
   "codemirror_mode": {
    "name": "ipython",
    "version": 3
   },
   "file_extension": ".py",
   "mimetype": "text/x-python",
   "name": "python",
   "nbconvert_exporter": "python",
   "pygments_lexer": "ipython3",
   "version": "3.11.4"
  }
 },
 "nbformat": 4,
 "nbformat_minor": 5
}
